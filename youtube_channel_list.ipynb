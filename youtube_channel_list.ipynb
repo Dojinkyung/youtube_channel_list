{
  "nbformat": 4,
  "nbformat_minor": 0,
  "metadata": {
    "colab": {
      "provenance": [],
      "authorship_tag": "ABX9TyO0A7FAQzaQl9ej2s9MH4Xk"
    },
    "kernelspec": {
      "name": "python3",
      "display_name": "Python 3"
    },
    "language_info": {
      "name": "python"
    }
  },
  "cells": [
    {
      "cell_type": "markdown",
      "source": [
        "1. 파일 가져오기"
      ],
      "metadata": {
        "id": "0RimsR6kwNRw"
      }
    },
    {
      "cell_type": "code",
      "execution_count": null,
      "metadata": {
        "id": "bf71Y3hVBdeR"
      },
      "outputs": [],
      "source": [
        "import numpy as np\n",
        "import pandas as pd\n",
        "from google.colab import files\n",
        "files.upload()"
      ]
    },
    {
      "cell_type": "markdown",
      "source": [
        "2. 엑셀파일 읽어와서 이름 변경 여부 란과 변경된 이름을 작상할 수 있는 칸 만들기"
      ],
      "metadata": {
        "id": "H3FDMVhhwSbm"
      }
    },
    {
      "cell_type": "code",
      "source": [
        "xy= pd.read_excel('통합 문서0906.xlsx')\n",
        "xy['이름 변경 여부']=0\n",
        "xy['변경된 이름']=''\n",
        "xy['신규 사용불가 채널']=''\n",
        "xy"
      ],
      "metadata": {
        "id": "Dgr20c3rj0m7"
      },
      "execution_count": null,
      "outputs": []
    },
    {
      "cell_type": "markdown",
      "source": [
        "3.url 부분 자르기"
      ],
      "metadata": {
        "id": "u2J_aixOwfPY"
      }
    },
    {
      "cell_type": "code",
      "source": [
        "data=list(xy['YT URL'])\n",
        "length=len(data)\n",
        "link=np.array(data)\n",
        "tmp=[]\n",
        "for i in link:\n",
        "  # strip()공백 제거하도록 만들기\n",
        "  i=i.strip()\n",
        "  tmp=np.append(tmp,i[-24:])\n",
        "for i in tmp:\n",
        "  print(i)\n",
        "len(tmp)"
      ],
      "metadata": {
        "id": "gVrT6YBLi-u5"
      },
      "execution_count": null,
      "outputs": []
    },
    {
      "cell_type": "markdown",
      "source": [],
      "metadata": {
        "id": "eWLmxFijDrAU"
      }
    },
    {
      "cell_type": "markdown",
      "source": [
        "4. 유튜브 api를 사용할 수 있도록 설치"
      ],
      "metadata": {
        "id": "GgtU9T70wjIu"
      }
    },
    {
      "cell_type": "code",
      "source": [
        "pip install google-auth google-auth-oauthlib google-auth-httplib2 google-api-python-client"
      ],
      "metadata": {
        "id": "85qbYJp5wEr1"
      },
      "execution_count": null,
      "outputs": []
    },
    {
      "cell_type": "markdown",
      "source": [
        "확인용 코드\n"
      ],
      "metadata": {
        "id": "-vPwiyUJwwtU"
      }
    },
    {
      "cell_type": "code",
      "source": [
        "import google.auth\n",
        "import google.auth.transport.requests\n",
        "import requests\n",
        "from google.oauth2 import service_account\n",
        "\n",
        "# API Key\n",
        "API_KEY =\n",
        "\n",
        "# API Endpoint\n",
        "CHANNELS_API_ENDPOINT = 'https://www.googleapis.com/youtube/v3/channels'\n",
        "\n",
        "# Channel ID\n",
        "CHANNEL_ID = tmp[1]\n",
        "\n",
        "# Request parameters\n",
        "params = {\n",
        "    'key': API_KEY,\n",
        "    'id': CHANNEL_ID,\n",
        "    'part': 'snippet,statistics'\n",
        "}\n",
        "\n",
        "# API request\n",
        "response = requests.get(CHANNELS_API_ENDPOINT, params=params)\n",
        "\n",
        "# API response parsing\n",
        "data = response.json()\n",
        "data\n",
        "try:\n",
        "    channel_name = data['items'][0]['snippet']['title']\n",
        "    subscriber_count = data['items'][0]['statistics']['subscriberCount']\n",
        "    view_count = data['items'][0]['statistics']['viewCount']\n",
        "except:\n",
        "    channel_name = np.nan\n",
        "    subscriber_count = np.nan\n",
        "    view_count = np.nan\n",
        "\n",
        "\n",
        "# channel_name = data['items'][0]['snippet']['title']\n",
        "# subscriber_count = data['items'][0]['statistics']['subscriberCount']\n",
        "# view_count = data['items'][0]['statistics']['viewCount']\n",
        "print(f\"채널명: {channel_name}\")\n",
        "print(f\"구독자 수: {subscriber_count}\")\n",
        "print(f\"총 유조회수: {view_count}\")"
      ],
      "metadata": {
        "id": "IveYt86HuB79"
      },
      "execution_count": null,
      "outputs": []
    },
    {
      "cell_type": "markdown",
      "source": [
        "5. 잘라둔 유튜브 채널아이디로 정보 불러오기"
      ],
      "metadata": {
        "id": "T7Mbk_HUwzsD"
      }
    },
    {
      "cell_type": "code",
      "source": [
        "for i in range(0,len(tmp)):\n",
        "  CHANNEL_ID = tmp[i]\n",
        "  print(f\"채널아이디: {CHANNEL_ID}\")\n",
        "\n",
        "  params = {\n",
        "      'key': API_KEY,\n",
        "      'id': CHANNEL_ID,\n",
        "      'part': 'snippet,statistics'\n",
        "  }\n",
        "\n",
        "\n",
        "  response = requests.get(CHANNELS_API_ENDPOINT, params=params)\n",
        "\n",
        "  data = response.json()\n",
        "  try:\n",
        "    channel_name = data['items'][0]['snippet']['title']\n",
        "    subscriber_count = data['items'][0]['statistics']['subscriberCount']\n",
        "    view_count = data['items'][0]['statistics']['viewCount']\n",
        "  except:\n",
        "    channel_name = np.nan\n",
        "    subscriber_count = np.nan\n",
        "    view_count = np.nan\n",
        "    xy['신규 사용불가 채널'][i]=np.where(xy['채널명'][i]==np.NaN,np.NaN,1)\n",
        "  xy['이름 변경 여부'][i]=np.where(xy['채널명'][i]!=channel_name,1,0)\n",
        "  xy['변경된 이름'][i]=np.where(xy['채널명'][i]!=channel_name,channel_name,0)\n",
        "  xy['구독자'][i]=subscriber_count\n",
        "  xy['누적조회수'][i]=view_count\n",
        "  # print(f\"채널명: {channel_name}\")\n",
        "  # print(f\"구독자 수: {subscriber_count}\")\n",
        "  # print(f\"총 유조회수: {view_count}\")"
      ],
      "metadata": {
        "id": "2DuDxW8O1aXr"
      },
      "execution_count": null,
      "outputs": []
    },
    {
      "cell_type": "code",
      "source": [
        "xy.to_excel('submitYT.xlsx')\n",
        "files.download('submitYT.xlsx')"
      ],
      "metadata": {
        "colab": {
          "base_uri": "https://localhost:8080/",
          "height": 17
        },
        "id": "vD7fLR1irKIk",
        "outputId": "c562963a-d719-4dd0-daec-53aca194729d"
      },
      "execution_count": null,
      "outputs": [
        {
          "output_type": "display_data",
          "data": {
            "text/plain": [
              "<IPython.core.display.Javascript object>"
            ],
            "application/javascript": [
              "\n",
              "    async function download(id, filename, size) {\n",
              "      if (!google.colab.kernel.accessAllowed) {\n",
              "        return;\n",
              "      }\n",
              "      const div = document.createElement('div');\n",
              "      const label = document.createElement('label');\n",
              "      label.textContent = `Downloading \"${filename}\": `;\n",
              "      div.appendChild(label);\n",
              "      const progress = document.createElement('progress');\n",
              "      progress.max = size;\n",
              "      div.appendChild(progress);\n",
              "      document.body.appendChild(div);\n",
              "\n",
              "      const buffers = [];\n",
              "      let downloaded = 0;\n",
              "\n",
              "      const channel = await google.colab.kernel.comms.open(id);\n",
              "      // Send a message to notify the kernel that we're ready.\n",
              "      channel.send({})\n",
              "\n",
              "      for await (const message of channel.messages) {\n",
              "        // Send a message to notify the kernel that we're ready.\n",
              "        channel.send({})\n",
              "        if (message.buffers) {\n",
              "          for (const buffer of message.buffers) {\n",
              "            buffers.push(buffer);\n",
              "            downloaded += buffer.byteLength;\n",
              "            progress.value = downloaded;\n",
              "          }\n",
              "        }\n",
              "      }\n",
              "      const blob = new Blob(buffers, {type: 'application/binary'});\n",
              "      const a = document.createElement('a');\n",
              "      a.href = window.URL.createObjectURL(blob);\n",
              "      a.download = filename;\n",
              "      div.appendChild(a);\n",
              "      a.click();\n",
              "      div.remove();\n",
              "    }\n",
              "  "
            ]
          },
          "metadata": {}
        },
        {
          "output_type": "display_data",
          "data": {
            "text/plain": [
              "<IPython.core.display.Javascript object>"
            ],
            "application/javascript": [
              "download(\"download_db10f1ac-dd33-4b76-8c51-0af858a704d4\", \"submitYT.xlsx\", 553519)"
            ]
          },
          "metadata": {}
        }
      ]
    }
  ]
}